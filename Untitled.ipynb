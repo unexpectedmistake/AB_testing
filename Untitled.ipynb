{
 "cells": [
  {
   "cell_type": "code",
   "execution_count": null,
   "id": "0f2584b5",
   "metadata": {},
   "outputs": [],
   "source": []
  },
  {
   "cell_type": "markdown",
   "id": "8dd4c281",
   "metadata": {},
   "source": [
    "$ Finnovation = \\beta_0 + \n",
    "\\beta_1*Llnsales_i + \n",
    "\\beta_2*Lexport_i + \n",
    "\\beta_3*log(Lavwage)_i + \n",
    "\\beta_4*Linnovation_i + \n",
    "\\beta_5*Llnkapital_i + \n",
    "\\beta_6*LsalesGR_i + \n",
    "\\beta_7*own*Llnsales_i + \n",
    "\\beta_8*own*Lexport_i + \n",
    "\\beta_9*own*log(Lavwage)_i \\\\+\n",
    "\\beta_{10}*own*Linnovation_i + \n",
    "\\beta_{11}*own*Llnkapital_i + \n",
    "\\beta_{12}*own*LsalesGR_i $"
   ]
  },
  {
   "cell_type": "markdown",
   "id": "83c5bebb",
   "metadata": {},
   "source": [
    "$ Finnovation = \\beta_0 + \n",
    "\\beta_1*Llnsales_i + \n",
    "\\beta_2*Lexport_i + \n",
    "\\beta_3*log(Lavwage)_i + \n",
    "\\beta_4*Linnovation_i + \n",
    "\\beta_5*Llnkapital_i \\\\+ \n",
    "\\beta_6*LsalesGR_i + \n",
    "\\beta_7*own*Llnsales_i + \n",
    "\\beta_8*own*Lexport_i + \n",
    "\\beta_9*own*log(Lavwage)_i \\\\ + \n",
    "\\beta_{10}*own*Linnovation_i + \n",
    "\\beta_{11}*own*LsalesGR_i $"
   ]
  },
  {
   "cell_type": "code",
   "execution_count": null,
   "id": "5f17fbf3",
   "metadata": {},
   "outputs": [],
   "source": []
  },
  {
   "cell_type": "code",
   "execution_count": null,
   "id": "86f9d92b",
   "metadata": {},
   "outputs": [],
   "source": []
  },
  {
   "cell_type": "code",
   "execution_count": null,
   "id": "fc146efa",
   "metadata": {},
   "outputs": [],
   "source": []
  },
  {
   "cell_type": "code",
   "execution_count": null,
   "id": "99b0bc6e",
   "metadata": {},
   "outputs": [],
   "source": []
  },
  {
   "cell_type": "code",
   "execution_count": 3,
   "id": "627f0369",
   "metadata": {},
   "outputs": [],
   "source": [
    "import numpy as np"
   ]
  },
  {
   "cell_type": "code",
   "execution_count": 5,
   "id": "798eacdc",
   "metadata": {},
   "outputs": [
    {
     "data": {
      "text/plain": [
       "-14.804937871657662"
      ]
     },
     "execution_count": 5,
     "metadata": {},
     "output_type": "execute_result"
    }
   ],
   "source": [
    "np.log(0.01875) / (np.log(2)/4 + np.log(1.1))"
   ]
  },
  {
   "cell_type": "code",
   "execution_count": 7,
   "id": "fbcd1452",
   "metadata": {},
   "outputs": [
    {
     "data": {
      "text/plain": [
       "50.996847060468646"
      ]
     },
     "execution_count": 7,
     "metadata": {},
     "output_type": "execute_result"
    }
   ],
   "source": [
    "np.log(0.01875) / ( np.log(1.1) - np.log(2) / 4)"
   ]
  },
  {
   "cell_type": "code",
   "execution_count": null,
   "id": "516418f5",
   "metadata": {},
   "outputs": [],
   "source": []
  },
  {
   "cell_type": "code",
   "execution_count": null,
   "id": "a6790fb1",
   "metadata": {},
   "outputs": [],
   "source": []
  },
  {
   "cell_type": "code",
   "execution_count": 2,
   "id": "9633c104",
   "metadata": {},
   "outputs": [],
   "source": [
    "import pandas as pd"
   ]
  },
  {
   "cell_type": "code",
   "execution_count": 8,
   "id": "c08cd96a",
   "metadata": {},
   "outputs": [],
   "source": [
    "df = pd.read_csv('exmp.txt',\n",
    "                 sep = \";|:|,\",\n",
    "                 engine = 'python',\n",
    "                 na_values = '.', header = None)"
   ]
  },
  {
   "cell_type": "code",
   "execution_count": null,
   "id": "fdd888a9",
   "metadata": {},
   "outputs": [],
   "source": []
  },
  {
   "cell_type": "code",
   "execution_count": null,
   "id": "1147d208",
   "metadata": {},
   "outputs": [],
   "source": []
  },
  {
   "cell_type": "code",
   "execution_count": null,
   "id": "d8a5be30",
   "metadata": {},
   "outputs": [],
   "source": []
  },
  {
   "cell_type": "code",
   "execution_count": null,
   "id": "4cfc2483",
   "metadata": {},
   "outputs": [],
   "source": []
  },
  {
   "cell_type": "code",
   "execution_count": null,
   "id": "22c346ef",
   "metadata": {},
   "outputs": [],
   "source": []
  },
  {
   "cell_type": "code",
   "execution_count": null,
   "id": "e8723e27",
   "metadata": {},
   "outputs": [],
   "source": []
  },
  {
   "cell_type": "code",
   "execution_count": null,
   "id": "c18143bb",
   "metadata": {},
   "outputs": [],
   "source": []
  },
  {
   "cell_type": "code",
   "execution_count": null,
   "id": "738d3d1d",
   "metadata": {},
   "outputs": [],
   "source": []
  },
  {
   "cell_type": "code",
   "execution_count": null,
   "id": "95bf4105",
   "metadata": {},
   "outputs": [],
   "source": []
  },
  {
   "cell_type": "code",
   "execution_count": 253,
   "id": "5ed3642f",
   "metadata": {},
   "outputs": [
    {
     "ename": "SyntaxError",
     "evalue": "invalid syntax (<ipython-input-253-62d34c70f3ee>, line 1)",
     "output_type": "error",
     "traceback": [
      "\u001b[0;36m  File \u001b[0;32m\"<ipython-input-253-62d34c70f3ee>\"\u001b[0;36m, line \u001b[0;32m1\u001b[0m\n\u001b[0;31m    open('baseFilename.txt', 'r') as string\u001b[0m\n\u001b[0m                                  ^\u001b[0m\n\u001b[0;31mSyntaxError\u001b[0m\u001b[0;31m:\u001b[0m invalid syntax\n"
     ]
    }
   ],
   "source": [
    "open('baseFilename.txt', 'r') as string\n",
    "\n",
    "#c_file_00 = []\n",
    "#cpp_file_00 = []\n",
    "#cs_file_00 = []\n",
    "for x in f:\n",
    "    print(x.split('.'))"
   ]
  },
  {
   "cell_type": "code",
   "execution_count": 252,
   "id": "0aad18a2",
   "metadata": {},
   "outputs": [
    {
     "ename": "NameError",
     "evalue": "name 'string' is not defined",
     "output_type": "error",
     "traceback": [
      "\u001b[0;31m---------------------------------------------------------------------------\u001b[0m",
      "\u001b[0;31mNameError\u001b[0m                                 Traceback (most recent call last)",
      "\u001b[0;32m<ipython-input-252-edbf08a562d5>\u001b[0m in \u001b[0;36m<module>\u001b[0;34m\u001b[0m\n\u001b[0;32m----> 1\u001b[0;31m \u001b[0mstring\u001b[0m\u001b[0;34m\u001b[0m\u001b[0;34m\u001b[0m\u001b[0m\n\u001b[0m",
      "\u001b[0;31mNameError\u001b[0m: name 'string' is not defined"
     ]
    }
   ],
   "source": [
    "string"
   ]
  },
  {
   "cell_type": "code",
   "execution_count": 269,
   "id": "a076dbbf",
   "metadata": {},
   "outputs": [],
   "source": [
    "baseFilename = 'baseFilename.txt'\n",
    "with open(baseFilename) as f:\n",
    "    f_list = [line.rstrip() for line in f]"
   ]
  },
  {
   "cell_type": "code",
   "execution_count": 270,
   "id": "9fbf9f45",
   "metadata": {},
   "outputs": [
    {
     "data": {
      "text/plain": [
       "['<div class=\"ib-settlement-cols-row\"><div class=\"ib-settlement-cols-cell\"><a href=\"/wiki/File:Flag_of_Athens,_Greece.svg\" class=\"image\" title=\"Flag of Athens\"><img alt=\"Flag of Athens\" src=\"//upload.wikimedia.org/wikipedia/en/thumb/0/0d/Flag_of_Athens%2C_Greece.svg/100px-Flag_of_Athens%2C_Greece.svg.png\" decoding=\"async\" width=\"100\" height=\"67\" class=\"thumbborder\" srcset=\"//upload.wikimedia.org/wikipedia/en/thumb/0/0d/Flag_of_Athens%2C_Greece.svg/150px-Flag_of_Athens%2C_Greece.svg.png 1.5x, //upload.wikimedia.org/wikipedia/en/thumb/0/0d/Flag_of_Athens%2C_Greece.svg/200px-Flag_of_Athens%2C_Greece.svg.png 2x\" data-file-width=\"300\" data-file-height=\"200\" /></a><div class=\"ib-settlement-caption-link\"><a href=\"/wiki/List_of_Greek_flags\" title=\"List of Greek flags\">Flag</a></div></div><div class=\"ib-settlement-cols-cell\"><a href=\"/wiki/File:Coat_of_Arms_of_Athens_(English_Version).svg\" class=\"image\" title=\"Official seal of Athens\"><img alt=\"Official seal of Athens\" src=\"//upload.wikimedia.org/wikipedia/en/thumb/3/35/Coat_of_Arms_of_Athens_%28English_Version%29.svg/83px-Coat_of_Arms_of_Athens_%28English_Version%29.svg.png\" decoding=\"async\" width=\"83\" height=\"100\" srcset=\"//upload.wikimedia.org/wikipedia/en/thumb/3/35/Coat_of_Arms_of_Athens_%28English_Version%29.svg/125px-Coat_of_Arms_of_Athens_%28English_Version%29.svg.png 1.5x, //upload.wikimedia.org/wikipedia/en/thumb/3/35/Coat_of_Arms_of_Athens_%28English_Version%29.svg/167px-Coat_of_Arms_of_Athens_%28English_Version%29.svg.png 2x\" data-file-width=\"289\" data-file-height=\"346\" /></a><div class=\"ib-settlement-caption-link\">Seal</div></div></div></div></td></tr><tr class=\"mergedtoprow\"><td colspan=\"2\" class=\"infobox-full-data\">Nicknames:&#160;<div class=\"ib-settlement-nickname nickname\"><span title=\"Greek-language text\"><span lang=\"el\">τὸ κλεινὸν ἄστυ</span></span>, <i>tò kleinòn ásty</i> (\"the glorious city\")<br /><span title=\"Greek-language text\"><span lang=\"el\">τὸ ἰοστεφὲς ἄστυ</span></span>, <i>tò iostephès ásty</i> (\"the <a href=\"/wiki/City_of_the_Violet_Crown\" title=\"City of the Violet Crown\">violet-crowned city</a>\")</div></td></tr><tr class=\"mergedtoprow\"><td colspan=\"2\" class=\"infobox-full-data\"><div class=\"switcher-container\"><style data-mw-deduplicate=\"TemplateStyles:r997900035\">.mw-parser-output .locmap .od{position:absolute}.mw-parser-output .locmap .id{position:absolute;line-height:0}.mw-parser-output .locmap .l0{font-size:0;position:absolute}.mw-parser-output .locmap .pv{line-height:110%;position:absolute;text-align:center}.mw-parser-output .locmap .pl{line-height:110%;position:absolute;top:-0.75em;text-align:right}.mw-parser-output .locmap .pr{line-height:110%;position:absolute;top:-0.75em;text-align:left}.mw-parser-output .locmap .pv>div{display:inline;padding:1px}.mw-parser-output .locmap .pl>div{display:inline;padding:1px;float:right}.mw-parser-output .locmap .pr>div{display:inline;padding:1px;float:left}</style><div class=\"center\"><div class=\"locmap\" style=\"width:250px;float:none;clear:both;margin-left:auto;margin-right:auto\"><div style=\"width:250px;padding:0\"><div style=\"position:relative;width:250px\"><a href=\"/wiki/File:Greece_relief_location_map.jpg\" class=\"image\" title=\"Athens is loc']"
      ]
     },
     "execution_count": 270,
     "metadata": {},
     "output_type": "execute_result"
    }
   ],
   "source": [
    "f_list"
   ]
  },
  {
   "cell_type": "code",
   "execution_count": 263,
   "id": "8efbe820",
   "metadata": {},
   "outputs": [],
   "source": [
    "with open(baseFilename) as f:\n",
    "    f_list = [line.rstrip() for line in f]\n",
    "    \n",
    "c_file_00, cpp_file_00, cs_file_00 = [], [], []\n",
    "\n",
    "for i in range(0, len(f_list)):\n",
    "    if f_list[i].split('.')[-1] == 'c':\n",
    "        c_file_00.append(f_list[i])\n",
    "    else:\n",
    "        if f_list[i].split('.')[-1] == 'cpp':\n",
    "            cpp_file_00.append(f_list[i])\n",
    "        else:\n",
    "            if f_list[i].split('.')[-1] == 'cs':\n",
    "                cs_file_00.append(f_list[i])\n",
    "            else:\n",
    "                cs_file_00.append(f'{f_list[i]}.{f_list[i].split(\".\")[-1]}')  \n",
    "                \n",
    "output = {'c_file_00': c_file_00, 'cpp_file_00': cpp_file_00, 'cs_file_00': cs_file_00}\n",
    "\n",
    "for key, value in output.items():\n",
    "    with open(f'{key}.txt', 'w') as f:\n",
    "        for item in value:\n",
    "            f.write(\"%s\\n\" % item)"
   ]
  },
  {
   "cell_type": "code",
   "execution_count": 264,
   "id": "d7e2927b",
   "metadata": {
    "collapsed": true
   },
   "outputs": [
    {
     "ename": "NameError",
     "evalue": "name 'dicts' is not defined",
     "output_type": "error",
     "traceback": [
      "\u001b[0;31m---------------------------------------------------------------------------\u001b[0m",
      "\u001b[0;31mNameError\u001b[0m                                 Traceback (most recent call last)",
      "\u001b[0;32m<ipython-input-264-ef57b03d6cf0>\u001b[0m in \u001b[0;36m<module>\u001b[0;34m\u001b[0m\n\u001b[1;32m      3\u001b[0m \u001b[0mvalues\u001b[0m \u001b[0;34m=\u001b[0m \u001b[0;34m[\u001b[0m\u001b[0;34m\"Hi\"\u001b[0m\u001b[0;34m,\u001b[0m \u001b[0;34m\"I\"\u001b[0m\u001b[0;34m,\u001b[0m \u001b[0;34m\"am\"\u001b[0m\u001b[0;34m,\u001b[0m \u001b[0;34m\"John\"\u001b[0m\u001b[0;34m]\u001b[0m\u001b[0;34m\u001b[0m\u001b[0;34m\u001b[0m\u001b[0m\n\u001b[1;32m      4\u001b[0m \u001b[0;32mfor\u001b[0m \u001b[0mi\u001b[0m \u001b[0;32min\u001b[0m \u001b[0mkeys\u001b[0m\u001b[0;34m:\u001b[0m\u001b[0;34m\u001b[0m\u001b[0;34m\u001b[0m\u001b[0m\n\u001b[0;32m----> 5\u001b[0;31m         \u001b[0mdicts\u001b[0m\u001b[0;34m[\u001b[0m\u001b[0mi\u001b[0m\u001b[0;34m]\u001b[0m \u001b[0;34m=\u001b[0m \u001b[0mvalues\u001b[0m\u001b[0;34m[\u001b[0m\u001b[0mi\u001b[0m\u001b[0;34m]\u001b[0m\u001b[0;34m\u001b[0m\u001b[0;34m\u001b[0m\u001b[0m\n\u001b[0m\u001b[1;32m      6\u001b[0m \u001b[0mprint\u001b[0m\u001b[0;34m(\u001b[0m\u001b[0mdicts\u001b[0m\u001b[0;34m)\u001b[0m\u001b[0;34m\u001b[0m\u001b[0;34m\u001b[0m\u001b[0m\n",
      "\u001b[0;31mNameError\u001b[0m: name 'dicts' is not defined"
     ]
    }
   ],
   "source": [
    "output = {}\n",
    "keys = range(4)\n",
    "values = [\"Hi\", \"I\", \"am\", \"John\"]\n",
    "for i in keys:\n",
    "        dicts[i] = values[i]\n",
    "print(dicts)"
   ]
  },
  {
   "cell_type": "code",
   "execution_count": 99,
   "id": "38f9577a",
   "metadata": {},
   "outputs": [],
   "source": []
  },
  {
   "cell_type": "code",
   "execution_count": 96,
   "id": "327f097c",
   "metadata": {},
   "outputs": [],
   "source": []
  },
  {
   "cell_type": "code",
   "execution_count": 118,
   "id": "f28e993a",
   "metadata": {},
   "outputs": [],
   "source": [
    "with open(baseFilename) as f:\n",
    "    f_list = [line.rstrip() for line in f]\n",
    "    \n",
    "c_file_00, cpp_file_00, cs_file_00 = [], [], []\n",
    "\n",
    "for i in range(0, len(f_list)):\n",
    "    if f_list[i].split('.')[-1] == 'c':\n",
    "        c_file_00.append(f_list[i])\n",
    "    else:\n",
    "        if f_list[i].split('.')[-1] == 'cpp':\n",
    "            cpp_file_00.append(f_list[i])\n",
    "        else:\n",
    "            cs_file_00.append(f_list[i])\n",
    "\n",
    "                \n",
    "output = {f'c_{baseFilename}': c_file_00, f'cpp_{baseFilename}': cpp_file_00, f'cs_{baseFilename}': cs_file_00}\n",
    "\n",
    "for key, value in output.items():\n",
    "    with open(f'{key}', 'w') as f:\n",
    "        for item in value:\n",
    "            f.write(\"%s\\n\" % item)"
   ]
  },
  {
   "cell_type": "code",
   "execution_count": null,
   "id": "d689be59",
   "metadata": {},
   "outputs": [],
   "source": []
  },
  {
   "cell_type": "code",
   "execution_count": 128,
   "id": "1cb5522e",
   "metadata": {},
   "outputs": [],
   "source": [
    "import numpy as np\n",
    "import re\n",
    "import urllib.request\n",
    "from bs4 import BeautifulSoup\n",
    "import pandas as pd"
   ]
  },
  {
   "cell_type": "code",
   "execution_count": 119,
   "id": "bab5edec",
   "metadata": {},
   "outputs": [
    {
     "name": "stdout",
     "output_type": "stream",
     "text": [
      "{'parse': {'title': 'Athens', 'pageid': 1216, 'text': {'*': '<div class=\"mw-parser-output\"><div class=\"shortdescription nomobile noexcerpt noprint searchaux\" style=\"display:none\">Capital of Greece</div>\\n<style data-mw-deduplicate=\"TemplateStyles:r1033289096\">.mw-parser-output .hatnote{font-style:italic}.mw-parser-output div.hatnote{padding-left:1.6em;margin-bottom:0.5em}.mw-parser-output .hatnote i{font-style:normal}.mw-parser-output .hatnote+link+.hatnote{margin-top:-0.5em}</style><div role=\"note\" class=\"hatnote navigation-not-searchable\">This article is about the city in Greece. For other uses, see <a href=\"/wiki/Athens_(disambiguation)\" class=\"mw-disambig\" title=\"Athens (disambiguation)\">Athens (disambiguation)</a>. For other uses of Athina, see...'}}}\n"
     ]
    }
   ],
   "source": [
    "import json\n",
    "with open('t.json') as f:\n",
    "    d = json.load(f)\n",
    "    print(d)"
   ]
  },
  {
   "cell_type": "code",
   "execution_count": 144,
   "id": "d7ff3f1a",
   "metadata": {},
   "outputs": [
    {
     "ename": "IndentationError",
     "evalue": "unindent does not match any outer indentation level (<tokenize>, line 7)",
     "output_type": "error",
     "traceback": [
      "\u001b[0;36m  File \u001b[0;32m\"<tokenize>\"\u001b[0;36m, line \u001b[0;32m7\u001b[0m\n\u001b[0;31m    W,B,G,Bst = 0,0,0,0  # worst, bad, good, best\u001b[0m\n\u001b[0m    ^\u001b[0m\n\u001b[0;31mIndentationError\u001b[0m\u001b[0;31m:\u001b[0m unindent does not match any outer indentation level\n"
     ]
    }
   ],
   "source": [
    "def getSentimentScore(topic):\n",
    "    \n",
    "     with urllib.request.urlopen(\"http://maps.googleapis.com/maps/api/geocode/json?address=google\" + topic) as url:\n",
    "     data = json.loads(url.read().decode())\n",
    "     return data['parse']['pageid']\n",
    "    \n",
    "    W,B,G,Bst = 0,0,0,0  # worst, bad, good, best\n",
    "    text = topic['parse']['text']['*']\n",
    "    \n",
    "    \n",
    "    return text\n",
    "    return -3 * W - B + G + 3 * Bst"
   ]
  },
  {
   "cell_type": "code",
   "execution_count": 265,
   "id": "b92290e5",
   "metadata": {
    "collapsed": true
   },
   "outputs": [
    {
     "ename": "JSONDecodeError",
     "evalue": "Expecting value: line 1 column 1 (char 0)",
     "output_type": "error",
     "traceback": [
      "\u001b[0;31m---------------------------------------------------------------------------\u001b[0m",
      "\u001b[0;31mJSONDecodeError\u001b[0m                           Traceback (most recent call last)",
      "\u001b[0;32m<ipython-input-265-6c46832cfbfb>\u001b[0m in \u001b[0;36m<module>\u001b[0;34m\u001b[0m\n\u001b[1;32m      1\u001b[0m \u001b[0;32mimport\u001b[0m \u001b[0mjson\u001b[0m\u001b[0;34m\u001b[0m\u001b[0;34m\u001b[0m\u001b[0m\n\u001b[1;32m      2\u001b[0m \u001b[0;32mwith\u001b[0m \u001b[0mopen\u001b[0m\u001b[0;34m(\u001b[0m\u001b[0;34m't.json'\u001b[0m\u001b[0;34m)\u001b[0m \u001b[0;32mas\u001b[0m \u001b[0mf\u001b[0m\u001b[0;34m:\u001b[0m\u001b[0;34m\u001b[0m\u001b[0;34m\u001b[0m\u001b[0m\n\u001b[0;32m----> 3\u001b[0;31m     \u001b[0md\u001b[0m \u001b[0;34m=\u001b[0m \u001b[0mjson\u001b[0m\u001b[0;34m.\u001b[0m\u001b[0mload\u001b[0m\u001b[0;34m(\u001b[0m\u001b[0mf\u001b[0m\u001b[0;34m)\u001b[0m\u001b[0;34m\u001b[0m\u001b[0;34m\u001b[0m\u001b[0m\n\u001b[0m\u001b[1;32m      4\u001b[0m \u001b[0;34m\u001b[0m\u001b[0m\n",
      "\u001b[0;32m~/opt/anaconda3/lib/python3.8/json/__init__.py\u001b[0m in \u001b[0;36mload\u001b[0;34m(fp, cls, object_hook, parse_float, parse_int, parse_constant, object_pairs_hook, **kw)\u001b[0m\n\u001b[1;32m    291\u001b[0m     \u001b[0mkwarg\u001b[0m\u001b[0;34m;\u001b[0m \u001b[0motherwise\u001b[0m\u001b[0;31m \u001b[0m\u001b[0;31m`\u001b[0m\u001b[0;31m`\u001b[0m\u001b[0mJSONDecoder\u001b[0m\u001b[0;31m`\u001b[0m\u001b[0;31m`\u001b[0m \u001b[0;32mis\u001b[0m \u001b[0mused\u001b[0m\u001b[0;34m.\u001b[0m\u001b[0;34m\u001b[0m\u001b[0;34m\u001b[0m\u001b[0m\n\u001b[1;32m    292\u001b[0m     \"\"\"\n\u001b[0;32m--> 293\u001b[0;31m     return loads(fp.read(),\n\u001b[0m\u001b[1;32m    294\u001b[0m         \u001b[0mcls\u001b[0m\u001b[0;34m=\u001b[0m\u001b[0mcls\u001b[0m\u001b[0;34m,\u001b[0m \u001b[0mobject_hook\u001b[0m\u001b[0;34m=\u001b[0m\u001b[0mobject_hook\u001b[0m\u001b[0;34m,\u001b[0m\u001b[0;34m\u001b[0m\u001b[0;34m\u001b[0m\u001b[0m\n\u001b[1;32m    295\u001b[0m         \u001b[0mparse_float\u001b[0m\u001b[0;34m=\u001b[0m\u001b[0mparse_float\u001b[0m\u001b[0;34m,\u001b[0m \u001b[0mparse_int\u001b[0m\u001b[0;34m=\u001b[0m\u001b[0mparse_int\u001b[0m\u001b[0;34m,\u001b[0m\u001b[0;34m\u001b[0m\u001b[0;34m\u001b[0m\u001b[0m\n",
      "\u001b[0;32m~/opt/anaconda3/lib/python3.8/json/__init__.py\u001b[0m in \u001b[0;36mloads\u001b[0;34m(s, cls, object_hook, parse_float, parse_int, parse_constant, object_pairs_hook, **kw)\u001b[0m\n\u001b[1;32m    355\u001b[0m             \u001b[0mparse_int\u001b[0m \u001b[0;32mis\u001b[0m \u001b[0;32mNone\u001b[0m \u001b[0;32mand\u001b[0m \u001b[0mparse_float\u001b[0m \u001b[0;32mis\u001b[0m \u001b[0;32mNone\u001b[0m \u001b[0;32mand\u001b[0m\u001b[0;34m\u001b[0m\u001b[0;34m\u001b[0m\u001b[0m\n\u001b[1;32m    356\u001b[0m             parse_constant is None and object_pairs_hook is None and not kw):\n\u001b[0;32m--> 357\u001b[0;31m         \u001b[0;32mreturn\u001b[0m \u001b[0m_default_decoder\u001b[0m\u001b[0;34m.\u001b[0m\u001b[0mdecode\u001b[0m\u001b[0;34m(\u001b[0m\u001b[0ms\u001b[0m\u001b[0;34m)\u001b[0m\u001b[0;34m\u001b[0m\u001b[0;34m\u001b[0m\u001b[0m\n\u001b[0m\u001b[1;32m    358\u001b[0m     \u001b[0;32mif\u001b[0m \u001b[0mcls\u001b[0m \u001b[0;32mis\u001b[0m \u001b[0;32mNone\u001b[0m\u001b[0;34m:\u001b[0m\u001b[0;34m\u001b[0m\u001b[0;34m\u001b[0m\u001b[0m\n\u001b[1;32m    359\u001b[0m         \u001b[0mcls\u001b[0m \u001b[0;34m=\u001b[0m \u001b[0mJSONDecoder\u001b[0m\u001b[0;34m\u001b[0m\u001b[0;34m\u001b[0m\u001b[0m\n",
      "\u001b[0;32m~/opt/anaconda3/lib/python3.8/json/decoder.py\u001b[0m in \u001b[0;36mdecode\u001b[0;34m(self, s, _w)\u001b[0m\n\u001b[1;32m    335\u001b[0m \u001b[0;34m\u001b[0m\u001b[0m\n\u001b[1;32m    336\u001b[0m         \"\"\"\n\u001b[0;32m--> 337\u001b[0;31m         \u001b[0mobj\u001b[0m\u001b[0;34m,\u001b[0m \u001b[0mend\u001b[0m \u001b[0;34m=\u001b[0m \u001b[0mself\u001b[0m\u001b[0;34m.\u001b[0m\u001b[0mraw_decode\u001b[0m\u001b[0;34m(\u001b[0m\u001b[0ms\u001b[0m\u001b[0;34m,\u001b[0m \u001b[0midx\u001b[0m\u001b[0;34m=\u001b[0m\u001b[0m_w\u001b[0m\u001b[0;34m(\u001b[0m\u001b[0ms\u001b[0m\u001b[0;34m,\u001b[0m \u001b[0;36m0\u001b[0m\u001b[0;34m)\u001b[0m\u001b[0;34m.\u001b[0m\u001b[0mend\u001b[0m\u001b[0;34m(\u001b[0m\u001b[0;34m)\u001b[0m\u001b[0;34m)\u001b[0m\u001b[0;34m\u001b[0m\u001b[0;34m\u001b[0m\u001b[0m\n\u001b[0m\u001b[1;32m    338\u001b[0m         \u001b[0mend\u001b[0m \u001b[0;34m=\u001b[0m \u001b[0m_w\u001b[0m\u001b[0;34m(\u001b[0m\u001b[0ms\u001b[0m\u001b[0;34m,\u001b[0m \u001b[0mend\u001b[0m\u001b[0;34m)\u001b[0m\u001b[0;34m.\u001b[0m\u001b[0mend\u001b[0m\u001b[0;34m(\u001b[0m\u001b[0;34m)\u001b[0m\u001b[0;34m\u001b[0m\u001b[0;34m\u001b[0m\u001b[0m\n\u001b[1;32m    339\u001b[0m         \u001b[0;32mif\u001b[0m \u001b[0mend\u001b[0m \u001b[0;34m!=\u001b[0m \u001b[0mlen\u001b[0m\u001b[0;34m(\u001b[0m\u001b[0ms\u001b[0m\u001b[0;34m)\u001b[0m\u001b[0;34m:\u001b[0m\u001b[0;34m\u001b[0m\u001b[0;34m\u001b[0m\u001b[0m\n",
      "\u001b[0;32m~/opt/anaconda3/lib/python3.8/json/decoder.py\u001b[0m in \u001b[0;36mraw_decode\u001b[0;34m(self, s, idx)\u001b[0m\n\u001b[1;32m    353\u001b[0m             \u001b[0mobj\u001b[0m\u001b[0;34m,\u001b[0m \u001b[0mend\u001b[0m \u001b[0;34m=\u001b[0m \u001b[0mself\u001b[0m\u001b[0;34m.\u001b[0m\u001b[0mscan_once\u001b[0m\u001b[0;34m(\u001b[0m\u001b[0ms\u001b[0m\u001b[0;34m,\u001b[0m \u001b[0midx\u001b[0m\u001b[0;34m)\u001b[0m\u001b[0;34m\u001b[0m\u001b[0;34m\u001b[0m\u001b[0m\n\u001b[1;32m    354\u001b[0m         \u001b[0;32mexcept\u001b[0m \u001b[0mStopIteration\u001b[0m \u001b[0;32mas\u001b[0m \u001b[0merr\u001b[0m\u001b[0;34m:\u001b[0m\u001b[0;34m\u001b[0m\u001b[0;34m\u001b[0m\u001b[0m\n\u001b[0;32m--> 355\u001b[0;31m             \u001b[0;32mraise\u001b[0m \u001b[0mJSONDecodeError\u001b[0m\u001b[0;34m(\u001b[0m\u001b[0;34m\"Expecting value\"\u001b[0m\u001b[0;34m,\u001b[0m \u001b[0ms\u001b[0m\u001b[0;34m,\u001b[0m \u001b[0merr\u001b[0m\u001b[0;34m.\u001b[0m\u001b[0mvalue\u001b[0m\u001b[0;34m)\u001b[0m \u001b[0;32mfrom\u001b[0m \u001b[0;32mNone\u001b[0m\u001b[0;34m\u001b[0m\u001b[0;34m\u001b[0m\u001b[0m\n\u001b[0m\u001b[1;32m    356\u001b[0m         \u001b[0;32mreturn\u001b[0m \u001b[0mobj\u001b[0m\u001b[0;34m,\u001b[0m \u001b[0mend\u001b[0m\u001b[0;34m\u001b[0m\u001b[0;34m\u001b[0m\u001b[0m\n",
      "\u001b[0;31mJSONDecodeError\u001b[0m: Expecting value: line 1 column 1 (char 0)"
     ]
    }
   ],
   "source": [
    "import json\n",
    "with open('t.json') as f:\n",
    "    d = json.load(f)"
   ]
  },
  {
   "cell_type": "code",
   "execution_count": 284,
   "id": "33a1b42d",
   "metadata": {},
   "outputs": [
    {
     "ename": "TypeError",
     "evalue": "'str' object is not callable",
     "output_type": "error",
     "traceback": [
      "\u001b[0;31m---------------------------------------------------------------------------\u001b[0m",
      "\u001b[0;31mTypeError\u001b[0m                                 Traceback (most recent call last)",
      "\u001b[0;32m<ipython-input-284-fef44023c72f>\u001b[0m in \u001b[0;36m<module>\u001b[0;34m\u001b[0m\n\u001b[0;32m----> 1\u001b[0;31m \u001b[0md\u001b[0m \u001b[0;34m=\u001b[0m \u001b[0mstr\u001b[0m\u001b[0;34m(\u001b[0m\u001b[0mf_list\u001b[0m\u001b[0;34m)\u001b[0m\u001b[0;34m\u001b[0m\u001b[0;34m\u001b[0m\u001b[0m\n\u001b[0m",
      "\u001b[0;31mTypeError\u001b[0m: 'str' object is not callable"
     ]
    }
   ],
   "source": [
    "d = str(f_list)"
   ]
  },
  {
   "cell_type": "code",
   "execution_count": 285,
   "id": "d077b9e6",
   "metadata": {},
   "outputs": [
    {
     "ename": "TypeError",
     "evalue": "list indices must be integers or slices, not str",
     "output_type": "error",
     "traceback": [
      "\u001b[0;31m---------------------------------------------------------------------------\u001b[0m",
      "\u001b[0;31mTypeError\u001b[0m                                 Traceback (most recent call last)",
      "\u001b[0;32m<ipython-input-285-e9c9297362de>\u001b[0m in \u001b[0;36m<module>\u001b[0;34m\u001b[0m\n\u001b[0;32m----> 1\u001b[0;31m \u001b[0mtext\u001b[0m \u001b[0;34m=\u001b[0m \u001b[0md\u001b[0m\u001b[0;34m[\u001b[0m\u001b[0;34m'parse'\u001b[0m\u001b[0;34m]\u001b[0m\u001b[0;34m[\u001b[0m\u001b[0;34m'text'\u001b[0m\u001b[0;34m]\u001b[0m\u001b[0;34m[\u001b[0m\u001b[0;34m'*'\u001b[0m\u001b[0;34m]\u001b[0m\u001b[0;34m\u001b[0m\u001b[0;34m\u001b[0m\u001b[0m\n\u001b[0m\u001b[1;32m      2\u001b[0m \u001b[0;34m\u001b[0m\u001b[0m\n\u001b[1;32m      3\u001b[0m \u001b[0;32mfrom\u001b[0m \u001b[0mbs4\u001b[0m \u001b[0;32mimport\u001b[0m \u001b[0mBeautifulSoup\u001b[0m\u001b[0;34m\u001b[0m\u001b[0;34m\u001b[0m\u001b[0m\n\u001b[1;32m      4\u001b[0m \u001b[0mBeautifulSoup\u001b[0m\u001b[0;34m(\u001b[0m\u001b[0mtext\u001b[0m\u001b[0;34m,\u001b[0m \u001b[0;34m\"lxml\"\u001b[0m\u001b[0;34m)\u001b[0m\u001b[0;34m.\u001b[0m\u001b[0mtext\u001b[0m\u001b[0;34m\u001b[0m\u001b[0;34m\u001b[0m\u001b[0m\n",
      "\u001b[0;31mTypeError\u001b[0m: list indices must be integers or slices, not str"
     ]
    }
   ],
   "source": [
    "text = d['parse']['text']['*']\n",
    "\n",
    "from bs4 import BeautifulSoup\n",
    "BeautifulSoup(text, \"lxml\").text"
   ]
  },
  {
   "cell_type": "code",
   "execution_count": 279,
   "id": "a2f5f50f",
   "metadata": {},
   "outputs": [
    {
     "data": {
      "text/plain": [
       "'capital of greece this article is about the city in greece. for other uses, see athens (disambiguation). for other uses of athina, see...'"
      ]
     },
     "execution_count": 279,
     "metadata": {},
     "output_type": "execute_result"
    }
   ],
   "source": [
    "final = cleantext.replace('\\n', ' ').lower()\n",
    "final"
   ]
  },
  {
   "cell_type": "code",
   "execution_count": 274,
   "id": "60617d6e",
   "metadata": {},
   "outputs": [
    {
     "name": "stdout",
     "output_type": "stream",
     "text": [
      "1\n",
      "0\n",
      "0\n",
      "0\n",
      "0\n"
     ]
    }
   ],
   "source": [
    "def count(final, word):\n",
    "    a = final.split(' ')\n",
    "    count = 0\n",
    "    for i in range(0, len(a)):\n",
    "        if (word == a[i]):\n",
    "            count = count + 1\n",
    "    return count   \n",
    "    \n",
    "for i in ['greece', 'worst', 'bad', 'good', 'best']:\n",
    "    print(count(final, i))"
   ]
  },
  {
   "cell_type": "code",
   "execution_count": 260,
   "id": "859b02d1",
   "metadata": {
    "scrolled": true
   },
   "outputs": [],
   "source": [
    "f_split = final.split(' ')"
   ]
  },
  {
   "cell_type": "code",
   "execution_count": 233,
   "id": "c4157e75",
   "metadata": {},
   "outputs": [],
   "source": [
    "word = 'greece'\n",
    "\n",
    "def count(final, word):\n",
    "    a = final.split(' ')\n",
    "    count = 0\n",
    "    for i in range(0, len(a)):\n",
    "        if (word == a[i]):\n",
    "            count = count + 1\n",
    "    return count   \n",
    "    \n",
    "for i in ['worst', 'bad', 'good', 'best']:\n",
    "    print(count(final, i))"
   ]
  },
  {
   "cell_type": "code",
   "execution_count": 237,
   "id": "64dbbae8",
   "metadata": {},
   "outputs": [
    {
     "name": "stdout",
     "output_type": "stream",
     "text": [
      "0\n",
      "0\n",
      "0\n",
      "0\n"
     ]
    }
   ],
   "source": []
  },
  {
   "cell_type": "code",
   "execution_count": 234,
   "id": "cc0815b2",
   "metadata": {},
   "outputs": [
    {
     "data": {
      "text/plain": [
       "1"
      ]
     },
     "execution_count": 234,
     "metadata": {},
     "output_type": "execute_result"
    }
   ],
   "source": [
    "count(final,'greece')"
   ]
  },
  {
   "cell_type": "code",
   "execution_count": 222,
   "id": "4e087b65",
   "metadata": {},
   "outputs": [
    {
     "data": {
      "text/plain": [
       "1"
      ]
     },
     "execution_count": 222,
     "metadata": {},
     "output_type": "execute_result"
    }
   ],
   "source": [
    "   for i in range(0, len(f_split)):\n",
    "    if (f_split[i] == word):\n",
    "        count +=1\n",
    "count"
   ]
  },
  {
   "cell_type": "code",
   "execution_count": 213,
   "id": "51563131",
   "metadata": {},
   "outputs": [
    {
     "ename": "SyntaxError",
     "evalue": "invalid syntax (<ipython-input-213-8a26b8431685>, line 1)",
     "output_type": "error",
     "traceback": [
      "\u001b[0;36m  File \u001b[0;32m\"<ipython-input-213-8a26b8431685>\"\u001b[0;36m, line \u001b[0;32m1\u001b[0m\n\u001b[0;31m    def countOccurrences(final, 'worst'):\u001b[0m\n\u001b[0m                                ^\u001b[0m\n\u001b[0;31mSyntaxError\u001b[0m\u001b[0;31m:\u001b[0m invalid syntax\n"
     ]
    }
   ],
   "source": [
    "def countOccurrences(final, 'worst'):\n",
    "     \n",
    "    # split the string by spaces in a\n",
    "    a = str.split(\" \")\n",
    " \n",
    "    # search for pattern in a\n",
    "    count = 0\n",
    "    for i in range(0, len(a)):\n",
    "         \n",
    "        # if match found increase count\n",
    "        if (word == a[i]):\n",
    "           count = count + 1\n",
    "            \n",
    "    return count   "
   ]
  },
  {
   "cell_type": "code",
   "execution_count": 202,
   "id": "ba01cca1",
   "metadata": {
    "scrolled": true
   },
   "outputs": [
    {
     "data": {
      "text/plain": [
       "'<div class=\"mw-parser-output\"><div class=\"shortdescription nomobile noexcerpt noprint searchaux\" style=\"display:none\">Capital of Greece</div>\\n<style data-mw-deduplicate=\"TemplateStyles:r1033289096\">.mw-parser-output .hatnote{font-style:italic}.mw-parser-output div.hatnote{padding-left:1.6em;margin-bottom:0.5em}.mw-parser-output .hatnote i{font-style:normal}.mw-parser-output .hatnote+link+.hatnote{margin-top:-0.5em}</style><div role=\"note\" class=\"hatnote navigation-not-searchable\">This article is about the city in Greece. For other uses, see <a href=\"/wiki/Athens_(disambiguation)\" class=\"mw-disambig\" title=\"Athens (disambiguation)\">Athens (disambiguation)</a>. For other uses of Athina, see...'"
      ]
     },
     "execution_count": 202,
     "metadata": {},
     "output_type": "execute_result"
    }
   ],
   "source": [
    "text"
   ]
  },
  {
   "cell_type": "code",
   "execution_count": 175,
   "id": "e84518fa",
   "metadata": {},
   "outputs": [],
   "source": [
    "import re\n",
    "\n",
    "CLEANR = re.compile('<.*?\\>') \n",
    "CLEANR = re.compile('<.*?>|&([a-z0-9]+|#[0-9]{1,6}|#x[0-9a-f]{1,6});')\n",
    "\n",
    "def cleanhtml(raw_html):\n",
    "    cleantext = re.sub(CLEANR, '', raw_html)\n",
    "    return cleantext\n"
   ]
  },
  {
   "cell_type": "code",
   "execution_count": 178,
   "id": "640f413a",
   "metadata": {},
   "outputs": [],
   "source": [
    "from bs4 import BeautifulSoup\n",
    "cleantext = BeautifulSoup(text, \"lxml\").text"
   ]
  },
  {
   "cell_type": "code",
   "execution_count": 179,
   "id": "4c9c7e4f",
   "metadata": {},
   "outputs": [
    {
     "data": {
      "text/plain": [
       "'Capital of Greece\\nThis article is about the city in Greece. For other uses, see Athens (disambiguation). For other uses of Athina, see...'"
      ]
     },
     "execution_count": 179,
     "metadata": {},
     "output_type": "execute_result"
    }
   ],
   "source": [
    "cleantext"
   ]
  },
  {
   "cell_type": "code",
   "execution_count": null,
   "id": "c295cf69",
   "metadata": {},
   "outputs": [],
   "source": []
  },
  {
   "cell_type": "code",
   "execution_count": null,
   "id": "c6ce541a",
   "metadata": {},
   "outputs": [],
   "source": []
  },
  {
   "cell_type": "code",
   "execution_count": 184,
   "id": "d5d5e105",
   "metadata": {},
   "outputs": [],
   "source": [
    "import pandas as pd\n",
    "import numpy as np\n",
    "df = pd.read_csv('DataforPS1.csv')"
   ]
  },
  {
   "cell_type": "code",
   "execution_count": 185,
   "id": "c51d5ce5",
   "metadata": {},
   "outputs": [
    {
     "data": {
      "text/plain": [
       "84"
      ]
     },
     "execution_count": 185,
     "metadata": {},
     "output_type": "execute_result"
    }
   ],
   "source": [
    "import math\n",
    "math.comb(9,3)"
   ]
  },
  {
   "cell_type": "code",
   "execution_count": 186,
   "id": "de1cffbe",
   "metadata": {},
   "outputs": [],
   "source": [
    "from itertools import combinations\n",
    "list(combinations(df['school_id'].unique(), 3));"
   ]
  },
  {
   "cell_type": "code",
   "execution_count": 187,
   "id": "36e57d69",
   "metadata": {},
   "outputs": [],
   "source": [
    "output = pd.pivot_table(data = df, \n",
    "                        index = ['school_id'],\n",
    "                        values='treated')\n",
    "output;"
   ]
  },
  {
   "cell_type": "code",
   "execution_count": 188,
   "id": "72d89b33",
   "metadata": {},
   "outputs": [],
   "source": [
    "a = list(combinations(df['school_id'].unique(), 3))\n",
    "for i in a:\n",
    "    output[f'treated_{a.index(i)}'] = 0\n",
    "    output.loc[i,f'treated_{a.index(i)}'] = 1"
   ]
  },
  {
   "cell_type": "code",
   "execution_count": 190,
   "id": "931b9da5",
   "metadata": {},
   "outputs": [
    {
     "data": {
      "text/html": [
       "<div>\n",
       "<style scoped>\n",
       "    .dataframe tbody tr th:only-of-type {\n",
       "        vertical-align: middle;\n",
       "    }\n",
       "\n",
       "    .dataframe tbody tr th {\n",
       "        vertical-align: top;\n",
       "    }\n",
       "\n",
       "    .dataframe thead th {\n",
       "        text-align: right;\n",
       "    }\n",
       "</style>\n",
       "<table border=\"1\" class=\"dataframe\">\n",
       "  <thead>\n",
       "    <tr style=\"text-align: right;\">\n",
       "      <th></th>\n",
       "      <th>treated</th>\n",
       "      <th>treated_0</th>\n",
       "      <th>treated_1</th>\n",
       "      <th>treated_2</th>\n",
       "      <th>treated_3</th>\n",
       "      <th>treated_4</th>\n",
       "      <th>treated_5</th>\n",
       "      <th>treated_6</th>\n",
       "      <th>treated_7</th>\n",
       "      <th>treated_8</th>\n",
       "      <th>...</th>\n",
       "      <th>treated_74</th>\n",
       "      <th>treated_75</th>\n",
       "      <th>treated_76</th>\n",
       "      <th>treated_77</th>\n",
       "      <th>treated_78</th>\n",
       "      <th>treated_79</th>\n",
       "      <th>treated_80</th>\n",
       "      <th>treated_81</th>\n",
       "      <th>treated_82</th>\n",
       "      <th>treated_83</th>\n",
       "    </tr>\n",
       "    <tr>\n",
       "      <th>school_id</th>\n",
       "      <th></th>\n",
       "      <th></th>\n",
       "      <th></th>\n",
       "      <th></th>\n",
       "      <th></th>\n",
       "      <th></th>\n",
       "      <th></th>\n",
       "      <th></th>\n",
       "      <th></th>\n",
       "      <th></th>\n",
       "      <th></th>\n",
       "      <th></th>\n",
       "      <th></th>\n",
       "      <th></th>\n",
       "      <th></th>\n",
       "      <th></th>\n",
       "      <th></th>\n",
       "      <th></th>\n",
       "      <th></th>\n",
       "      <th></th>\n",
       "      <th></th>\n",
       "    </tr>\n",
       "  </thead>\n",
       "  <tbody>\n",
       "    <tr>\n",
       "      <th>1</th>\n",
       "      <td>0</td>\n",
       "      <td>1</td>\n",
       "      <td>1</td>\n",
       "      <td>1</td>\n",
       "      <td>1</td>\n",
       "      <td>1</td>\n",
       "      <td>1</td>\n",
       "      <td>1</td>\n",
       "      <td>1</td>\n",
       "      <td>1</td>\n",
       "      <td>...</td>\n",
       "      <td>0</td>\n",
       "      <td>0</td>\n",
       "      <td>0</td>\n",
       "      <td>0</td>\n",
       "      <td>0</td>\n",
       "      <td>0</td>\n",
       "      <td>0</td>\n",
       "      <td>0</td>\n",
       "      <td>0</td>\n",
       "      <td>0</td>\n",
       "    </tr>\n",
       "    <tr>\n",
       "      <th>2</th>\n",
       "      <td>1</td>\n",
       "      <td>0</td>\n",
       "      <td>0</td>\n",
       "      <td>0</td>\n",
       "      <td>0</td>\n",
       "      <td>0</td>\n",
       "      <td>1</td>\n",
       "      <td>0</td>\n",
       "      <td>0</td>\n",
       "      <td>0</td>\n",
       "      <td>...</td>\n",
       "      <td>0</td>\n",
       "      <td>1</td>\n",
       "      <td>0</td>\n",
       "      <td>1</td>\n",
       "      <td>0</td>\n",
       "      <td>1</td>\n",
       "      <td>1</td>\n",
       "      <td>0</td>\n",
       "      <td>1</td>\n",
       "      <td>1</td>\n",
       "    </tr>\n",
       "    <tr>\n",
       "      <th>3</th>\n",
       "      <td>0</td>\n",
       "      <td>0</td>\n",
       "      <td>0</td>\n",
       "      <td>0</td>\n",
       "      <td>0</td>\n",
       "      <td>1</td>\n",
       "      <td>0</td>\n",
       "      <td>0</td>\n",
       "      <td>0</td>\n",
       "      <td>0</td>\n",
       "      <td>...</td>\n",
       "      <td>1</td>\n",
       "      <td>0</td>\n",
       "      <td>0</td>\n",
       "      <td>1</td>\n",
       "      <td>1</td>\n",
       "      <td>0</td>\n",
       "      <td>1</td>\n",
       "      <td>1</td>\n",
       "      <td>0</td>\n",
       "      <td>1</td>\n",
       "    </tr>\n",
       "    <tr>\n",
       "      <th>5</th>\n",
       "      <td>1</td>\n",
       "      <td>0</td>\n",
       "      <td>0</td>\n",
       "      <td>0</td>\n",
       "      <td>0</td>\n",
       "      <td>0</td>\n",
       "      <td>0</td>\n",
       "      <td>1</td>\n",
       "      <td>0</td>\n",
       "      <td>0</td>\n",
       "      <td>...</td>\n",
       "      <td>0</td>\n",
       "      <td>0</td>\n",
       "      <td>1</td>\n",
       "      <td>0</td>\n",
       "      <td>1</td>\n",
       "      <td>1</td>\n",
       "      <td>0</td>\n",
       "      <td>1</td>\n",
       "      <td>1</td>\n",
       "      <td>1</td>\n",
       "    </tr>\n",
       "    <tr>\n",
       "      <th>6</th>\n",
       "      <td>0</td>\n",
       "      <td>1</td>\n",
       "      <td>0</td>\n",
       "      <td>0</td>\n",
       "      <td>0</td>\n",
       "      <td>0</td>\n",
       "      <td>0</td>\n",
       "      <td>0</td>\n",
       "      <td>1</td>\n",
       "      <td>1</td>\n",
       "      <td>...</td>\n",
       "      <td>0</td>\n",
       "      <td>0</td>\n",
       "      <td>0</td>\n",
       "      <td>0</td>\n",
       "      <td>0</td>\n",
       "      <td>0</td>\n",
       "      <td>0</td>\n",
       "      <td>0</td>\n",
       "      <td>0</td>\n",
       "      <td>0</td>\n",
       "    </tr>\n",
       "    <tr>\n",
       "      <th>7</th>\n",
       "      <td>0</td>\n",
       "      <td>0</td>\n",
       "      <td>1</td>\n",
       "      <td>0</td>\n",
       "      <td>0</td>\n",
       "      <td>0</td>\n",
       "      <td>0</td>\n",
       "      <td>0</td>\n",
       "      <td>1</td>\n",
       "      <td>0</td>\n",
       "      <td>...</td>\n",
       "      <td>0</td>\n",
       "      <td>0</td>\n",
       "      <td>0</td>\n",
       "      <td>0</td>\n",
       "      <td>0</td>\n",
       "      <td>0</td>\n",
       "      <td>0</td>\n",
       "      <td>0</td>\n",
       "      <td>0</td>\n",
       "      <td>0</td>\n",
       "    </tr>\n",
       "    <tr>\n",
       "      <th>8</th>\n",
       "      <td>0</td>\n",
       "      <td>0</td>\n",
       "      <td>0</td>\n",
       "      <td>0</td>\n",
       "      <td>1</td>\n",
       "      <td>0</td>\n",
       "      <td>0</td>\n",
       "      <td>0</td>\n",
       "      <td>0</td>\n",
       "      <td>0</td>\n",
       "      <td>...</td>\n",
       "      <td>1</td>\n",
       "      <td>1</td>\n",
       "      <td>1</td>\n",
       "      <td>0</td>\n",
       "      <td>0</td>\n",
       "      <td>0</td>\n",
       "      <td>1</td>\n",
       "      <td>1</td>\n",
       "      <td>1</td>\n",
       "      <td>0</td>\n",
       "    </tr>\n",
       "    <tr>\n",
       "      <th>9</th>\n",
       "      <td>0</td>\n",
       "      <td>0</td>\n",
       "      <td>0</td>\n",
       "      <td>1</td>\n",
       "      <td>0</td>\n",
       "      <td>0</td>\n",
       "      <td>0</td>\n",
       "      <td>0</td>\n",
       "      <td>0</td>\n",
       "      <td>1</td>\n",
       "      <td>...</td>\n",
       "      <td>1</td>\n",
       "      <td>1</td>\n",
       "      <td>1</td>\n",
       "      <td>1</td>\n",
       "      <td>1</td>\n",
       "      <td>1</td>\n",
       "      <td>0</td>\n",
       "      <td>0</td>\n",
       "      <td>0</td>\n",
       "      <td>0</td>\n",
       "    </tr>\n",
       "    <tr>\n",
       "      <th>10</th>\n",
       "      <td>1</td>\n",
       "      <td>1</td>\n",
       "      <td>1</td>\n",
       "      <td>1</td>\n",
       "      <td>1</td>\n",
       "      <td>1</td>\n",
       "      <td>1</td>\n",
       "      <td>1</td>\n",
       "      <td>0</td>\n",
       "      <td>0</td>\n",
       "      <td>...</td>\n",
       "      <td>0</td>\n",
       "      <td>0</td>\n",
       "      <td>0</td>\n",
       "      <td>0</td>\n",
       "      <td>0</td>\n",
       "      <td>0</td>\n",
       "      <td>0</td>\n",
       "      <td>0</td>\n",
       "      <td>0</td>\n",
       "      <td>0</td>\n",
       "    </tr>\n",
       "  </tbody>\n",
       "</table>\n",
       "<p>9 rows × 85 columns</p>\n",
       "</div>"
      ],
      "text/plain": [
       "           treated  treated_0  treated_1  treated_2  treated_3  treated_4  \\\n",
       "school_id                                                                   \n",
       "1                0          1          1          1          1          1   \n",
       "2                1          0          0          0          0          0   \n",
       "3                0          0          0          0          0          1   \n",
       "5                1          0          0          0          0          0   \n",
       "6                0          1          0          0          0          0   \n",
       "7                0          0          1          0          0          0   \n",
       "8                0          0          0          0          1          0   \n",
       "9                0          0          0          1          0          0   \n",
       "10               1          1          1          1          1          1   \n",
       "\n",
       "           treated_5  treated_6  treated_7  treated_8  ...  treated_74  \\\n",
       "school_id                                              ...               \n",
       "1                  1          1          1          1  ...           0   \n",
       "2                  1          0          0          0  ...           0   \n",
       "3                  0          0          0          0  ...           1   \n",
       "5                  0          1          0          0  ...           0   \n",
       "6                  0          0          1          1  ...           0   \n",
       "7                  0          0          1          0  ...           0   \n",
       "8                  0          0          0          0  ...           1   \n",
       "9                  0          0          0          1  ...           1   \n",
       "10                 1          1          0          0  ...           0   \n",
       "\n",
       "           treated_75  treated_76  treated_77  treated_78  treated_79  \\\n",
       "school_id                                                               \n",
       "1                   0           0           0           0           0   \n",
       "2                   1           0           1           0           1   \n",
       "3                   0           0           1           1           0   \n",
       "5                   0           1           0           1           1   \n",
       "6                   0           0           0           0           0   \n",
       "7                   0           0           0           0           0   \n",
       "8                   1           1           0           0           0   \n",
       "9                   1           1           1           1           1   \n",
       "10                  0           0           0           0           0   \n",
       "\n",
       "           treated_80  treated_81  treated_82  treated_83  \n",
       "school_id                                                  \n",
       "1                   0           0           0           0  \n",
       "2                   1           0           1           1  \n",
       "3                   1           1           0           1  \n",
       "5                   0           1           1           1  \n",
       "6                   0           0           0           0  \n",
       "7                   0           0           0           0  \n",
       "8                   1           1           1           0  \n",
       "9                   0           0           0           0  \n",
       "10                  0           0           0           0  \n",
       "\n",
       "[9 rows x 85 columns]"
      ]
     },
     "execution_count": 190,
     "metadata": {},
     "output_type": "execute_result"
    }
   ],
   "source": [
    "output"
   ]
  },
  {
   "cell_type": "code",
   "execution_count": 191,
   "id": "0115103f",
   "metadata": {
    "scrolled": true
   },
   "outputs": [],
   "source": [
    "df1 = pd.merge(df, output.reset_index(), on = 'school_id' )"
   ]
  },
  {
   "cell_type": "code",
   "execution_count": 223,
   "id": "8b159b0c",
   "metadata": {},
   "outputs": [],
   "source": [
    "import statsmodels.formula.api as smf\n",
    "reg_model = smf.ols(\"zakaibag ~ treated_y + semarab + semrel + ls50 + ls75 + ls100 + educav +  educem + ah4 + ole5\", df1).fit(\n",
    "    cov_type='cluster', cov_kwds={'groups': df1['school_id']},use_t=True)\n"
   ]
  },
  {
   "cell_type": "code",
   "execution_count": 224,
   "id": "196ccd74",
   "metadata": {
    "collapsed": true
   },
   "outputs": [
    {
     "name": "stderr",
     "output_type": "stream",
     "text": [
      "/Users/anton/opt/anaconda3/lib/python3.8/site-packages/statsmodels/base/model.py:1832: ValueWarning: covariance of constraints does not have full rank. The number of constraints is 10, but rank is 8\n",
      "  warnings.warn('covariance of constraints does not have full '\n"
     ]
    },
    {
     "data": {
      "text/html": [
       "<table class=\"simpletable\">\n",
       "<caption>OLS Regression Results</caption>\n",
       "<tr>\n",
       "  <th>Dep. Variable:</th>        <td>zakaibag</td>     <th>  R-squared:         </th> <td>   0.439</td>\n",
       "</tr>\n",
       "<tr>\n",
       "  <th>Model:</th>                   <td>OLS</td>       <th>  Adj. R-squared:    </th> <td>   0.430</td>\n",
       "</tr>\n",
       "<tr>\n",
       "  <th>Method:</th>             <td>Least Squares</td>  <th>  F-statistic:       </th> <td>   354.7</td>\n",
       "</tr>\n",
       "<tr>\n",
       "  <th>Date:</th>             <td>Sun, 03 Apr 2022</td> <th>  Prob (F-statistic):</th> <td>2.17e-09</td>\n",
       "</tr>\n",
       "<tr>\n",
       "  <th>Time:</th>                 <td>14:10:36</td>     <th>  Log-Likelihood:    </th> <td> -214.96</td>\n",
       "</tr>\n",
       "<tr>\n",
       "  <th>No. Observations:</th>      <td>   647</td>      <th>  AIC:               </th> <td>   451.9</td>\n",
       "</tr>\n",
       "<tr>\n",
       "  <th>Df Residuals:</th>          <td>   636</td>      <th>  BIC:               </th> <td>   501.1</td>\n",
       "</tr>\n",
       "<tr>\n",
       "  <th>Df Model:</th>              <td>    10</td>      <th>                     </th>     <td> </td>   \n",
       "</tr>\n",
       "<tr>\n",
       "  <th>Covariance Type:</th>       <td>cluster</td>     <th>                     </th>     <td> </td>   \n",
       "</tr>\n",
       "</table>\n",
       "<table class=\"simpletable\">\n",
       "<tr>\n",
       "      <td></td>         <th>coef</th>     <th>std err</th>      <th>t</th>      <th>P>|t|</th>  <th>[0.025</th>    <th>0.975]</th>  \n",
       "</tr>\n",
       "<tr>\n",
       "  <th>Intercept</th> <td>   -0.3991</td> <td>    0.130</td> <td>   -3.063</td> <td> 0.016</td> <td>   -0.700</td> <td>   -0.099</td>\n",
       "</tr>\n",
       "<tr>\n",
       "  <th>treated_y</th> <td>    0.1632</td> <td>    0.071</td> <td>    2.311</td> <td> 0.050</td> <td>    0.000</td> <td>    0.326</td>\n",
       "</tr>\n",
       "<tr>\n",
       "  <th>semarab</th>   <td>    0.1954</td> <td>    0.081</td> <td>    2.412</td> <td> 0.042</td> <td>    0.009</td> <td>    0.382</td>\n",
       "</tr>\n",
       "<tr>\n",
       "  <th>semrel</th>    <td>   -0.0170</td> <td>    0.105</td> <td>   -0.161</td> <td> 0.876</td> <td>   -0.260</td> <td>    0.226</td>\n",
       "</tr>\n",
       "<tr>\n",
       "  <th>ls50</th>      <td>    0.1069</td> <td>    0.047</td> <td>    2.264</td> <td> 0.053</td> <td>   -0.002</td> <td>    0.216</td>\n",
       "</tr>\n",
       "<tr>\n",
       "  <th>ls75</th>      <td>    0.2600</td> <td>    0.040</td> <td>    6.442</td> <td> 0.000</td> <td>    0.167</td> <td>    0.353</td>\n",
       "</tr>\n",
       "<tr>\n",
       "  <th>ls100</th>     <td>    0.6545</td> <td>    0.053</td> <td>   12.284</td> <td> 0.000</td> <td>    0.532</td> <td>    0.777</td>\n",
       "</tr>\n",
       "<tr>\n",
       "  <th>educav</th>    <td>    0.0144</td> <td>    0.010</td> <td>    1.480</td> <td> 0.177</td> <td>   -0.008</td> <td>    0.037</td>\n",
       "</tr>\n",
       "<tr>\n",
       "  <th>educem</th>    <td>    0.0140</td> <td>    0.009</td> <td>    1.592</td> <td> 0.150</td> <td>   -0.006</td> <td>    0.034</td>\n",
       "</tr>\n",
       "<tr>\n",
       "  <th>ah4</th>       <td>    0.0106</td> <td>    0.024</td> <td>    0.439</td> <td> 0.672</td> <td>   -0.045</td> <td>    0.066</td>\n",
       "</tr>\n",
       "<tr>\n",
       "  <th>ole5</th>      <td>    0.0542</td> <td>    0.037</td> <td>    1.457</td> <td> 0.183</td> <td>   -0.032</td> <td>    0.140</td>\n",
       "</tr>\n",
       "</table>\n",
       "<table class=\"simpletable\">\n",
       "<tr>\n",
       "  <th>Omnibus:</th>       <td>13.594</td> <th>  Durbin-Watson:     </th> <td>   1.806</td>\n",
       "</tr>\n",
       "<tr>\n",
       "  <th>Prob(Omnibus):</th> <td> 0.001</td> <th>  Jarque-Bera (JB):  </th> <td>  20.955</td>\n",
       "</tr>\n",
       "<tr>\n",
       "  <th>Skew:</th>          <td> 0.159</td> <th>  Prob(JB):          </th> <td>2.82e-05</td>\n",
       "</tr>\n",
       "<tr>\n",
       "  <th>Kurtosis:</th>      <td> 3.822</td> <th>  Cond. No.          </th> <td>    124.</td>\n",
       "</tr>\n",
       "</table><br/><br/>Notes:<br/>[1] Standard Errors are robust to cluster correlation (cluster)"
      ],
      "text/plain": [
       "<class 'statsmodels.iolib.summary.Summary'>\n",
       "\"\"\"\n",
       "                            OLS Regression Results                            \n",
       "==============================================================================\n",
       "Dep. Variable:               zakaibag   R-squared:                       0.439\n",
       "Model:                            OLS   Adj. R-squared:                  0.430\n",
       "Method:                 Least Squares   F-statistic:                     354.7\n",
       "Date:                Sun, 03 Apr 2022   Prob (F-statistic):           2.17e-09\n",
       "Time:                        14:10:36   Log-Likelihood:                -214.96\n",
       "No. Observations:                 647   AIC:                             451.9\n",
       "Df Residuals:                     636   BIC:                             501.1\n",
       "Df Model:                          10                                         \n",
       "Covariance Type:              cluster                                         \n",
       "==============================================================================\n",
       "                 coef    std err          t      P>|t|      [0.025      0.975]\n",
       "------------------------------------------------------------------------------\n",
       "Intercept     -0.3991      0.130     -3.063      0.016      -0.700      -0.099\n",
       "treated_y      0.1632      0.071      2.311      0.050       0.000       0.326\n",
       "semarab        0.1954      0.081      2.412      0.042       0.009       0.382\n",
       "semrel        -0.0170      0.105     -0.161      0.876      -0.260       0.226\n",
       "ls50           0.1069      0.047      2.264      0.053      -0.002       0.216\n",
       "ls75           0.2600      0.040      6.442      0.000       0.167       0.353\n",
       "ls100          0.6545      0.053     12.284      0.000       0.532       0.777\n",
       "educav         0.0144      0.010      1.480      0.177      -0.008       0.037\n",
       "educem         0.0140      0.009      1.592      0.150      -0.006       0.034\n",
       "ah4            0.0106      0.024      0.439      0.672      -0.045       0.066\n",
       "ole5           0.0542      0.037      1.457      0.183      -0.032       0.140\n",
       "==============================================================================\n",
       "Omnibus:                       13.594   Durbin-Watson:                   1.806\n",
       "Prob(Omnibus):                  0.001   Jarque-Bera (JB):               20.955\n",
       "Skew:                           0.159   Prob(JB):                     2.82e-05\n",
       "Kurtosis:                       3.822   Cond. No.                         124.\n",
       "==============================================================================\n",
       "\n",
       "Notes:\n",
       "[1] Standard Errors are robust to cluster correlation (cluster)\n",
       "\"\"\""
      ]
     },
     "execution_count": 224,
     "metadata": {},
     "output_type": "execute_result"
    }
   ],
   "source": [
    "reg_model.summary()"
   ]
  },
  {
   "cell_type": "code",
   "execution_count": null,
   "id": "b1582e08",
   "metadata": {},
   "outputs": [],
   "source": [
    "reg_model."
   ]
  }
 ],
 "metadata": {
  "kernelspec": {
   "display_name": "Python 3 (ipykernel)",
   "language": "python",
   "name": "python3"
  },
  "language_info": {
   "codemirror_mode": {
    "name": "ipython",
    "version": 3
   },
   "file_extension": ".py",
   "mimetype": "text/x-python",
   "name": "python",
   "nbconvert_exporter": "python",
   "pygments_lexer": "ipython3",
   "version": "3.9.7"
  }
 },
 "nbformat": 4,
 "nbformat_minor": 5
}
